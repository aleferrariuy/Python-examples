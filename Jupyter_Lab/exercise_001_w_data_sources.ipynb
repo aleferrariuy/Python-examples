{
 "cells": [
  {
   "cell_type": "markdown",
   "id": "1eea850e-8cb1-4ff9-8cac-5a95adf497d1",
   "metadata": {},
   "source": [
    "# Trabajar con una fuente de datos CSV / Working with a CSV data source\n",
    "## Origen de datos en un archivo CSV local / Data source in a local CSV file"
   ]
  },
  {
   "cell_type": "markdown",
   "id": "7b382707-62d4-4ff0-812a-95747d4a1e8c",
   "metadata": {},
   "source": [
    "### Origen de datos / Data source\n",
    "\n",
    "- ⚙ - ./registro_nacimientos_2k.csv"
   ]
  },
  {
   "cell_type": "markdown",
   "id": "fe5fecde-18d1-4242-8a3b-f552690f5913",
   "metadata": {},
   "source": [
    "## Leer los primeros 5 registros / Read the first 5 records"
   ]
  },
  {
   "cell_type": "code",
   "execution_count": 4,
   "id": "abefaef2-b8c7-4d09-936f-582ede3c7936",
   "metadata": {},
   "outputs": [
    {
     "name": "stdout",
     "output_type": "stream",
     "text": [
      "Encabezado\n",
      "['id', 'nombre', 'apellido', 'fecnac']\n",
      "['1', 'christopher', 'berry', '19900910']\n",
      "['2', 'richard', 'parrish', '19760101']\n",
      "['3', 'mary', 'willis', '19530317']\n",
      "['4', 'michael', 'lewis', '19740712']\n",
      "['5', 'erik', 'turner', '19360323']\n"
     ]
    }
   ],
   "source": [
    "# Importo librería necesaria para el tipo de archivo\n",
    "import csv\n",
    "\n",
    "# Ruta del origen de datos\n",
    "archivo_csv = 'Desktop/Python/registro_nacimientos_2k.csv'\n",
    "\n",
    "# Cantidad de registros a leer\n",
    "n_leer = 5\n",
    "\n",
    "# Leer el archivo CSV indicado\n",
    "with open(archivo_csv, mode='r', newline='', encoding='utf-8') as file:\n",
    "    reader = csv.reader(file)\n",
    "    header = next(reader)  # Leer el encabezado\n",
    "    print(\"Encabezado\")\n",
    "    print(f\"{header}\")\n",
    "    \n",
    "    # Listar los primeros 5 registros\n",
    "    for i, row in enumerate(reader):\n",
    "        if i < n_leer:\n",
    "            print(row)  # Mostrar el registro\n",
    "        else:\n",
    "            break\n"
   ]
  },
  {
   "cell_type": "code",
   "execution_count": null,
   "id": "65aae51c-580e-4437-814c-869134d873fc",
   "metadata": {},
   "outputs": [],
   "source": []
  }
 ],
 "metadata": {
  "kernelspec": {
   "display_name": "Python 3 (ipykernel)",
   "language": "python",
   "name": "python3"
  },
  "language_info": {
   "codemirror_mode": {
    "name": "ipython",
    "version": 3
   },
   "file_extension": ".py",
   "mimetype": "text/x-python",
   "name": "python",
   "nbconvert_exporter": "python",
   "pygments_lexer": "ipython3",
   "version": "3.13.2"
  }
 },
 "nbformat": 4,
 "nbformat_minor": 5
}
